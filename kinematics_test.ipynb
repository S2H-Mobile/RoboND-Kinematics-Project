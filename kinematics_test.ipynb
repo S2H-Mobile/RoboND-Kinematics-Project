{
 "cells": [
  {
   "cell_type": "markdown",
   "metadata": {},
   "source": [
    "# Kinematics for the KR210"
   ]
  },
  {
   "cell_type": "code",
   "execution_count": 1,
   "metadata": {
    "collapsed": true
   },
   "outputs": [],
   "source": [
    "# For matrix algebra we use the sympy package.\n",
    "from mpmath import *\n",
    "from sympy import *\n",
    "import time\n",
    "init_printing(use_unicode=True)"
   ]
  },
  {
   "cell_type": "code",
   "execution_count": 2,
   "metadata": {},
   "outputs": [
    {
     "data": {
      "text/html": [
       "<style> code {background-color : white !important;} </style>"
      ],
      "text/plain": [
       "<IPython.core.display.HTML object>"
      ]
     },
     "metadata": {},
     "output_type": "display_data"
    }
   ],
   "source": [
    "%%HTML\n",
    "<style> code {background-color : white !important;} </style>"
   ]
  },
  {
   "cell_type": "markdown",
   "metadata": {},
   "source": [
    "# Denavit-Hartenberg Parameters"
   ]
  },
  {
   "cell_type": "code",
   "execution_count": 3,
   "metadata": {
    "collapsed": true
   },
   "outputs": [],
   "source": [
    "# Define Denavit-Hartenberg parameter symbols.\n",
    "q1, q2, q3, q4, q5, q6, q7 = symbols('q1:8') # joint angles (theta_i)         \n",
    "d1, d2, d3, d4, d5, d6, d7 = symbols('d1:8') # link offsets\n",
    "a0, a1, a2, a3, a4, a5, a6 = symbols('a0:7') # link lengths\n",
    "alpha0, alpha1, alpha2, alpha3, alpha4, alpha5, alpha6 = symbols('alpha0:7') # twist angles"
   ]
  },
  {
   "cell_type": "code",
   "execution_count": 4,
   "metadata": {
    "collapsed": true
   },
   "outputs": [],
   "source": [
    "# Denavit-Hartenberg parameters for KUKA KR210\n",
    "s = {alpha0:     0,  a0:        0, d1:  0.75,\n",
    "     alpha1: -pi/2,  a1:     0.35, d2:     0, q2: q2-pi/2, \n",
    "     alpha2:     0,  a2:     1.25, d3:     0,\n",
    "     alpha3: -pi/2,  a3:   -0.054, d4:   1.5,\n",
    "     alpha4:  pi/2,  a4:        0, d5:     0,\n",
    "     alpha5: -pi/2,  a5:        0, d6:     0,\n",
    "     alpha6:     0,  a6:        0, d7: 0.303, q7:       0}"
   ]
  },
  {
   "cell_type": "markdown",
   "metadata": {},
   "source": [
    "## Forward Kinematics: Homogeneous Transforms"
   ]
  },
  {
   "cell_type": "code",
   "execution_count": 5,
   "metadata": {
    "collapsed": true
   },
   "outputs": [],
   "source": [
    "T0_1 = Matrix([[             cos(q1),            -sin(q1),            0,              a0],\n",
    "               [ sin(q1)*cos(alpha0), cos(q1)*cos(alpha0), -sin(alpha0), -sin(alpha0)*d1],\n",
    "               [ sin(q1)*sin(alpha0), cos(q1)*sin(alpha0),  cos(alpha0),  cos(alpha0)*d1],\n",
    "               [                   0,                   0,            0,               1]])\n",
    "T0_1 = T0_1.subs(s)\n",
    "T1_2 = Matrix([[             cos(q2),            -sin(q2),            0,              a1],\n",
    "               [ sin(q2)*cos(alpha1), cos(q2)*cos(alpha1), -sin(alpha1), -sin(alpha1)*d2],\n",
    "               [ sin(q2)*sin(alpha1), cos(q2)*sin(alpha1),  cos(alpha1),  cos(alpha1)*d2],\n",
    "               [                   0,                   0,            0,               1]])\n",
    "T1_2 = T1_2.subs(s)\n",
    "T2_3 = Matrix([[             cos(q3),            -sin(q3),            0,              a2],\n",
    "               [ sin(q3)*cos(alpha2), cos(q3)*cos(alpha2), -sin(alpha2), -sin(alpha2)*d3],\n",
    "               [ sin(q3)*sin(alpha2), cos(q3)*sin(alpha2),  cos(alpha2),  cos(alpha2)*d3],\n",
    "               [                   0,                   0,            0,               1]])\n",
    "T2_3 = T2_3.subs(s)"
   ]
  },
  {
   "cell_type": "markdown",
   "metadata": {},
   "source": [
    "## Rotation Matrix frame 3 to frame 0"
   ]
  },
  {
   "cell_type": "code",
   "execution_count": 6,
   "metadata": {},
   "outputs": [
    {
     "name": "stdout",
     "output_type": "stream",
     "text": [
      "Wall time: 2.64 s\n"
     ]
    },
    {
     "data": {
      "image/png": "[encoded data removed]",
      "text/latex": [
       "$$\\left[\\begin{matrix}\\sin{\\left (q_{2} + q_{3} \\right )} \\cos{\\left (q_{1} \\right )} & \\cos{\\left (q_{1} \\right )} \\cos{\\left (q_{2} + q_{3} \\right )} & - \\sin{\\left (q_{1} \\right )} & \\left(1.25 \\sin{\\left (q_{2} \\right )} + 0.35\\right) \\cos{\\left (q_{1} \\right )}\\\\\\sin{\\left (q_{1} \\right )} \\sin{\\left (q_{2} + q_{3} \\right )} & \\sin{\\left (q_{1} \\right )} \\cos{\\left (q_{2} + q_{3} \\right )} & \\cos{\\left (q_{1} \\right )} & \\left(1.25 \\sin{\\left (q_{2} \\right )} + 0.35\\right) \\sin{\\left (q_{1} \\right )}\\\\\\cos{\\left (q_{2} + q_{3} \\right )} & - \\sin{\\left (q_{2} + q_{3} \\right )} & 0 & 1.25 \\cos{\\left (q_{2} \\right )} + 0.75\\\\0 & 0 & 0 & 1\\end{matrix}\\right]$$"
      ],
      "text/plain": [
       "⎡sin(q₂ + q₃)⋅cos(q₁)  cos(q₁)⋅cos(q₂ + q₃)  -sin(q₁)  (1.25⋅sin(q₂) + 0.35)⋅c\n",
       "⎢                                                                             \n",
       "⎢sin(q₁)⋅sin(q₂ + q₃)  sin(q₁)⋅cos(q₂ + q₃)  cos(q₁)   (1.25⋅sin(q₂) + 0.35)⋅s\n",
       "⎢                                                                             \n",
       "⎢    cos(q₂ + q₃)         -sin(q₂ + q₃)         0           1.25⋅cos(q₂) + 0.7\n",
       "⎢                                                                             \n",
       "⎣         0                     0               0                    1        \n",
       "\n",
       "os(q₁)⎤\n",
       "      ⎥\n",
       "in(q₁)⎥\n",
       "      ⎥\n",
       "5     ⎥\n",
       "      ⎥\n",
       "      ⎦"
      ]
     },
     "execution_count": 6,
     "metadata": {},
     "output_type": "execute_result"
    }
   ],
   "source": [
    "# generate total transformation matrix\n",
    "%time T0_3 = trigsimp(T0_1 * T1_2 * T2_3)\n",
    "T0_3"
   ]
  },
  {
   "cell_type": "code",
   "execution_count": 7,
   "metadata": {},
   "outputs": [
    {
     "data": {
      "image/png": "[encoded data removed]",
      "text/latex": [
       "$$\\left[\\begin{matrix}\\sin{\\left (q_{2} + q_{3} \\right )} \\cos{\\left (q_{1} \\right )} & \\sin{\\left (q_{1} \\right )} \\sin{\\left (q_{2} + q_{3} \\right )} & \\cos{\\left (q_{2} + q_{3} \\right )}\\\\\\cos{\\left (q_{1} \\right )} \\cos{\\left (q_{2} + q_{3} \\right )} & \\sin{\\left (q_{1} \\right )} \\cos{\\left (q_{2} + q_{3} \\right )} & - \\sin{\\left (q_{2} + q_{3} \\right )}\\\\- \\sin{\\left (q_{1} \\right )} & \\cos{\\left (q_{1} \\right )} & 0\\end{matrix}\\right]$$"
      ],
      "text/plain": [
       "⎡sin(q₂ + q₃)⋅cos(q₁)  sin(q₁)⋅sin(q₂ + q₃)  cos(q₂ + q₃) ⎤\n",
       "⎢                                                         ⎥\n",
       "⎢cos(q₁)⋅cos(q₂ + q₃)  sin(q₁)⋅cos(q₂ + q₃)  -sin(q₂ + q₃)⎥\n",
       "⎢                                                         ⎥\n",
       "⎣      -sin(q₁)              cos(q₁)               0      ⎦"
      ]
     },
     "execution_count": 7,
     "metadata": {},
     "output_type": "execute_result"
    }
   ],
   "source": [
    "# rotation matrix\n",
    "R0_3 = T0_3[0:3, 0:3]\n",
    "\n",
    "# inverse rotation is equal to transpose\n",
    "R3_0 = R0_3.transpose()\n",
    "R3_0"
   ]
  },
  {
   "cell_type": "code",
   "execution_count": 8,
   "metadata": {},
   "outputs": [
    {
     "data": {
      "image/png": "[encoded data removed]",
      "text/latex": [
       "$$\\left[\\begin{matrix}0 & 0 & 1.0\\\\1.0 & 0 & 0\\\\0 & 1.0 & 0\\end{matrix}\\right]$$"
      ],
      "text/plain": [
       "⎡ 0    0   1.0⎤\n",
       "⎢             ⎥\n",
       "⎢1.0   0    0 ⎥\n",
       "⎢             ⎥\n",
       "⎣ 0   1.0   0 ⎦"
      ]
     },
     "execution_count": 8,
     "metadata": {},
     "output_type": "execute_result"
    }
   ],
   "source": [
    "# evaluate matrix for default joint positions\n",
    "R3_0.evalf(subs={q1: 0, q2: 0, q3: 0})"
   ]
  },
  {
   "cell_type": "markdown",
   "metadata": {},
   "source": [
    "Continue with transformations from frame 3 to gripper frame."
   ]
  },
  {
   "cell_type": "code",
   "execution_count": 9,
   "metadata": {
    "collapsed": true
   },
   "outputs": [],
   "source": [
    "T3_4 = Matrix([[             cos(q4),            -sin(q4),            0,              a3],\n",
    "               [ sin(q4)*cos(alpha3), cos(q4)*cos(alpha3), -sin(alpha3), -sin(alpha3)*d4],\n",
    "               [ sin(q4)*sin(alpha3), cos(q4)*sin(alpha3),  cos(alpha3),  cos(alpha3)*d4],\n",
    "               [                   0,                   0,            0,               1]])\n",
    "T3_4 = T3_4.subs(s)\n",
    "T4_5 = Matrix([[             cos(q5),            -sin(q5),            0,              a4],\n",
    "               [ sin(q5)*cos(alpha4), cos(q5)*cos(alpha4), -sin(alpha4), -sin(alpha4)*d5],\n",
    "               [ sin(q5)*sin(alpha4), cos(q5)*sin(alpha4),  cos(alpha4),  cos(alpha4)*d5],\n",
    "               [                   0,                   0,            0,               1]])\n",
    "T4_5 = T4_5.subs(s)\n",
    "T5_6 = Matrix([[             cos(q6),            -sin(q6),            0,              a5],\n",
    "               [ sin(q6)*cos(alpha5), cos(q6)*cos(alpha5), -sin(alpha5), -sin(alpha5)*d6],\n",
    "               [ sin(q6)*sin(alpha5), cos(q6)*sin(alpha5),  cos(alpha5),  cos(alpha5)*d6],\n",
    "               [                   0,                   0,            0,               1]])\n",
    "T5_6 = T5_6.subs(s)\n",
    "T6_G = Matrix([[             cos(q7),            -sin(q7),            0,              a6],\n",
    "               [ sin(q7)*cos(alpha6), cos(q7)*cos(alpha6), -sin(alpha6), -sin(alpha6)*d7],\n",
    "               [ sin(q7)*sin(alpha6), cos(q7)*sin(alpha6),  cos(alpha6),  cos(alpha6)*d7],\n",
    "               [                   0,                   0,            0,               1]])\n",
    "T6_G = T6_G.subs(s)"
   ]
  },
  {
   "cell_type": "markdown",
   "metadata": {},
   "source": [
    "# Combined Transformation\n",
    "\n",
    "From base link to gripper link."
   ]
  },
  {
   "cell_type": "code",
   "execution_count": 10,
   "metadata": {},
   "outputs": [
    {
     "name": "stdout",
     "output_type": "stream",
     "text": [
      "Wall time: 44.3 s\n"
     ]
    },
    {
     "data": {
      "image/png": "[encoded data removed]",
      "text/latex": [
       "$$\\left[\\begin{matrix}\\left(\\left(\\sin{\\left (q_{1} \\right )} \\sin{\\left (q_{4} \\right )} + \\sin{\\left (q_{2} + q_{3} \\right )} \\cos{\\left (q_{1} \\right )} \\cos{\\left (q_{4} \\right )}\\right) \\cos{\\left (q_{5} \\right )} + \\sin{\\left (q_{5} \\right )} \\cos{\\left (q_{1} \\right )} \\cos{\\left (q_{2} + q_{3} \\right )}\\right) \\cos{\\left (q_{6} \\right )} - \\left(- \\sin{\\left (q_{1} \\right )} \\cos{\\left (q_{4} \\right )} + \\sin{\\left (q_{4} \\right )} \\sin{\\left (q_{2} + q_{3} \\right )} \\cos{\\left (q_{1} \\right )}\\right) \\sin{\\left (q_{6} \\right )} & - \\left(\\left(\\sin{\\left (q_{1} \\right )} \\sin{\\left (q_{4} \\right )} + \\sin{\\left (q_{2} + q_{3} \\right )} \\cos{\\left (q_{1} \\right )} \\cos{\\left (q_{4} \\right )}\\right) \\cos{\\left (q_{5} \\right )} + \\sin{\\left (q_{5} \\right )} \\cos{\\left (q_{1} \\right )} \\cos{\\left (q_{2} + q_{3} \\right )}\\right) \\sin{\\left (q_{6} \\right )} - \\left(- \\sin{\\left (q_{1} \\right )} \\cos{\\left (q_{4} \\right )} + \\sin{\\left (q_{4} \\right )} \\sin{\\left (q_{2} + q_{3} \\right )} \\cos{\\left (q_{1} \\right )}\\right) \\cos{\\left (q_{6} \\right )} & - \\left(\\sin{\\left (q_{1} \\right )} \\sin{\\left (q_{4} \\right )} + \\sin{\\left (q_{2} + q_{3} \\right )} \\cos{\\left (q_{1} \\right )} \\cos{\\left (q_{4} \\right )}\\right) \\sin{\\left (q_{5} \\right )} + \\cos{\\left (q_{1} \\right )} \\cos{\\left (q_{5} \\right )} \\cos{\\left (q_{2} + q_{3} \\right )} & - 0.303 \\left(\\sin{\\left (q_{1} \\right )} \\sin{\\left (q_{4} \\right )} + \\sin{\\left (q_{2} + q_{3} \\right )} \\cos{\\left (q_{1} \\right )} \\cos{\\left (q_{4} \\right )}\\right) \\sin{\\left (q_{5} \\right )} + \\left(1.25 \\sin{\\left (q_{2} \\right )} + 0.35\\right) \\cos{\\left (q_{1} \\right )} - 0.054 \\sin{\\left (q_{2} + q_{3} \\right )} \\cos{\\left (q_{1} \\right )} + 0.303 \\cos{\\left (q_{1} \\right )} \\cos{\\left (q_{5} \\right )} \\cos{\\left (q_{2} + q_{3} \\right )} + 1.5 \\cos{\\left (q_{1} \\right )} \\cos{\\left (q_{2} + q_{3} \\right )}\\\\\\left(\\left(\\sin{\\left (q_{1} \\right )} \\sin{\\left (q_{2} + q_{3} \\right )} \\cos{\\left (q_{4} \\right )} - \\sin{\\left (q_{4} \\right )} \\cos{\\left (q_{1} \\right )}\\right) \\cos{\\left (q_{5} \\right )} + \\sin{\\left (q_{1} \\right )} \\sin{\\left (q_{5} \\right )} \\cos{\\left (q_{2} + q_{3} \\right )}\\right) \\cos{\\left (q_{6} \\right )} - \\left(\\sin{\\left (q_{1} \\right )} \\sin{\\left (q_{4} \\right )} \\sin{\\left (q_{2} + q_{3} \\right )} + \\cos{\\left (q_{1} \\right )} \\cos{\\left (q_{4} \\right )}\\right) \\sin{\\left (q_{6} \\right )} & - \\left(\\left(\\sin{\\left (q_{1} \\right )} \\sin{\\left (q_{2} + q_{3} \\right )} \\cos{\\left (q_{4} \\right )} - \\sin{\\left (q_{4} \\right )} \\cos{\\left (q_{1} \\right )}\\right) \\cos{\\left (q_{5} \\right )} + \\sin{\\left (q_{1} \\right )} \\sin{\\left (q_{5} \\right )} \\cos{\\left (q_{2} + q_{3} \\right )}\\right) \\sin{\\left (q_{6} \\right )} - \\left(\\sin{\\left (q_{1} \\right )} \\sin{\\left (q_{4} \\right )} \\sin{\\left (q_{2} + q_{3} \\right )} + \\cos{\\left (q_{1} \\right )} \\cos{\\left (q_{4} \\right )}\\right) \\cos{\\left (q_{6} \\right )} & - \\left(\\sin{\\left (q_{1} \\right )} \\sin{\\left (q_{2} + q_{3} \\right )} \\cos{\\left (q_{4} \\right )} - \\sin{\\left (q_{4} \\right )} \\cos{\\left (q_{1} \\right )}\\right) \\sin{\\left (q_{5} \\right )} + \\sin{\\left (q_{1} \\right )} \\cos{\\left (q_{5} \\right )} \\cos{\\left (q_{2} + q_{3} \\right )} & - 0.303 \\left(\\sin{\\left (q_{1} \\right )} \\sin{\\left (q_{2} + q_{3} \\right )} \\cos{\\left (q_{4} \\right )} - \\sin{\\left (q_{4} \\right )} \\cos{\\left (q_{1} \\right )}\\right) \\sin{\\left (q_{5} \\right )} + \\left(1.25 \\sin{\\left (q_{2} \\right )} + 0.35\\right) \\sin{\\left (q_{1} \\right )} - 0.054 \\sin{\\left (q_{1} \\right )} \\sin{\\left (q_{2} + q_{3} \\right )} + 0.303 \\sin{\\left (q_{1} \\right )} \\cos{\\left (q_{5} \\right )} \\cos{\\left (q_{2} + q_{3} \\right )} + 1.5 \\sin{\\left (q_{1} \\right )} \\cos{\\left (q_{2} + q_{3} \\right )}\\\\\\left(- \\sin{\\left (q_{5} \\right )} \\sin{\\left (q_{2} + q_{3} \\right )} + \\cos{\\left (q_{4} \\right )} \\cos{\\left (q_{5} \\right )} \\cos{\\left (q_{2} + q_{3} \\right )}\\right) \\cos{\\left (q_{6} \\right )} - \\sin{\\left (q_{4} \\right )} \\sin{\\left (q_{6} \\right )} \\cos{\\left (q_{2} + q_{3} \\right )} & - \\left(- \\sin{\\left (q_{5} \\right )} \\sin{\\left (q_{2} + q_{3} \\right )} + \\cos{\\left (q_{4} \\right )} \\cos{\\left (q_{5} \\right )} \\cos{\\left (q_{2} + q_{3} \\right )}\\right) \\sin{\\left (q_{6} \\right )} - \\sin{\\left (q_{4} \\right )} \\cos{\\left (q_{6} \\right )} \\cos{\\left (q_{2} + q_{3} \\right )} & - \\sin{\\left (q_{5} \\right )} \\cos{\\left (q_{4} \\right )} \\cos{\\left (q_{2} + q_{3} \\right )} + \\sin{\\left (q_{2} + q_{3} \\right )} \\cos{\\left (q_{5} \\right )} & - 0.303 \\sin{\\left (q_{5} \\right )} \\cos{\\left (q_{4} \\right )} \\cos{\\left (q_{2} + q_{3} \\right )} - 0.303 \\sin{\\left (q_{2} + q_{3} \\right )} \\cos{\\left (q_{5} \\right )} - 1.5 \\sin{\\left (q_{2} + q_{3} \\right )} + 1.25 \\cos{\\left (q_{2} \\right )} - 0.054 \\cos{\\left (q_{2} + q_{3} \\right )} + 0.75\\\\0 & 0 & 0 & 1\\end{matrix}\\right]$$"
      ],
      "text/plain": [
       "⎡((sin(q₁)⋅sin(q₄) + sin(q₂ + q₃)⋅cos(q₁)⋅cos(q₄))⋅cos(q₅) + sin(q₅)⋅cos(q₁)⋅c\n",
       "⎢                                                                             \n",
       "⎢((sin(q₁)⋅sin(q₂ + q₃)⋅cos(q₄) - sin(q₄)⋅cos(q₁))⋅cos(q₅) + sin(q₁)⋅sin(q₅)⋅c\n",
       "⎢                                                                             \n",
       "⎢                                (-sin(q₅)⋅sin(q₂ + q₃) + cos(q₄)⋅cos(q₅)⋅cos(\n",
       "⎢                                                                             \n",
       "⎣                                                                             \n",
       "\n",
       "os(q₂ + q₃))⋅cos(q₆) - (-sin(q₁)⋅cos(q₄) + sin(q₄)⋅sin(q₂ + q₃)⋅cos(q₁))⋅sin(q\n",
       "                                                                              \n",
       "os(q₂ + q₃))⋅cos(q₆) - (sin(q₁)⋅sin(q₄)⋅sin(q₂ + q₃) + cos(q₁)⋅cos(q₄))⋅sin(q₆\n",
       "                                                                              \n",
       "q₂ + q₃))⋅cos(q₆) - sin(q₄)⋅sin(q₆)⋅cos(q₂ + q₃)                              \n",
       "                                                                              \n",
       " 0                                                                            \n",
       "\n",
       "₆)  -((sin(q₁)⋅sin(q₄) + sin(q₂ + q₃)⋅cos(q₁)⋅cos(q₄))⋅cos(q₅) + sin(q₅)⋅cos(q\n",
       "                                                                              \n",
       ")   -((sin(q₁)⋅sin(q₂ + q₃)⋅cos(q₄) - sin(q₄)⋅cos(q₁))⋅cos(q₅) + sin(q₁)⋅sin(q\n",
       "                                                                              \n",
       "                                    -(-sin(q₅)⋅sin(q₂ + q₃) + cos(q₄)⋅cos(q₅)⋅\n",
       "                                                                              \n",
       "                                                                              \n",
       "\n",
       "₁)⋅cos(q₂ + q₃))⋅sin(q₆) - (-sin(q₁)⋅cos(q₄) + sin(q₄)⋅sin(q₂ + q₃)⋅cos(q₁))⋅c\n",
       "                                                                              \n",
       "₅)⋅cos(q₂ + q₃))⋅sin(q₆) - (sin(q₁)⋅sin(q₄)⋅sin(q₂ + q₃) + cos(q₁)⋅cos(q₄))⋅co\n",
       "                                                                              \n",
       "cos(q₂ + q₃))⋅sin(q₆) - sin(q₄)⋅cos(q₆)⋅cos(q₂ + q₃)                          \n",
       "                                                                              \n",
       "    0                                                                         \n",
       "\n",
       "os(q₆)  -(sin(q₁)⋅sin(q₄) + sin(q₂ + q₃)⋅cos(q₁)⋅cos(q₄))⋅sin(q₅) + cos(q₁)⋅co\n",
       "                                                                              \n",
       "s(q₆)   -(sin(q₁)⋅sin(q₂ + q₃)⋅cos(q₄) - sin(q₄)⋅cos(q₁))⋅sin(q₅) + sin(q₁)⋅co\n",
       "                                                                              \n",
       "                         -(sin(q₅)⋅cos(q₄)⋅cos(q₂ + q₃) + sin(q₂ + q₃)⋅cos(q₅)\n",
       "                                                                              \n",
       "                                                   0                          \n",
       "\n",
       "s(q₅)⋅cos(q₂ + q₃)  -0.303⋅(sin(q₁)⋅sin(q₄) + sin(q₂ + q₃)⋅cos(q₁)⋅cos(q₄))⋅si\n",
       "                                                                              \n",
       "s(q₅)⋅cos(q₂ + q₃)  -0.303⋅(sin(q₁)⋅sin(q₂ + q₃)⋅cos(q₄) - sin(q₄)⋅cos(q₁))⋅si\n",
       "                                                                              \n",
       ")                                                  -0.303⋅sin(q₅)⋅cos(q₄)⋅cos(\n",
       "                                                                              \n",
       "                                                                              \n",
       "\n",
       "n(q₅) + (1.25⋅sin(q₂) + 0.35)⋅cos(q₁) - 0.054⋅sin(q₂ + q₃)⋅cos(q₁) + 0.303⋅cos\n",
       "                                                                              \n",
       "n(q₅) + (1.25⋅sin(q₂) + 0.35)⋅sin(q₁) - 0.054⋅sin(q₁)⋅sin(q₂ + q₃) + 0.303⋅sin\n",
       "                                                                              \n",
       "q₂ + q₃) - 0.303⋅sin(q₂ + q₃)⋅cos(q₅) - 1.5⋅sin(q₂ + q₃) + 1.25⋅cos(q₂) - 0.05\n",
       "                                                                              \n",
       "                                   1                                          \n",
       "\n",
       "(q₁)⋅cos(q₅)⋅cos(q₂ + q₃) + 1.5⋅cos(q₁)⋅cos(q₂ + q₃)⎤\n",
       "                                                    ⎥\n",
       "(q₁)⋅cos(q₅)⋅cos(q₂ + q₃) + 1.5⋅sin(q₁)⋅cos(q₂ + q₃)⎥\n",
       "                                                    ⎥\n",
       "4⋅cos(q₂ + q₃) + 0.75                               ⎥\n",
       "                                                    ⎥\n",
       "                                                    ⎦"
      ]
     },
     "execution_count": 10,
     "metadata": {},
     "output_type": "execute_result"
    }
   ],
   "source": [
    "% time T0_G = trigsimp(T0_3 * T3_4 * T4_5 * T5_6 * T6_G)\n",
    "T0_G"
   ]
  },
  {
   "cell_type": "code",
   "execution_count": 11,
   "metadata": {},
   "outputs": [
    {
     "data": {
      "image/png": "[encoded data removed]",
      "text/latex": [
       "$$\\left[\\begin{matrix}0 & 0 & 1.0 & 2.153\\\\0 & -1.0 & 0 & 0\\\\1.0 & 0 & 0 & 1.946\\\\0 & 0 & 0 & 1.0\\end{matrix}\\right]$$"
      ],
      "text/plain": [
       "⎡ 0    0    1.0  2.153⎤\n",
       "⎢                     ⎥\n",
       "⎢ 0   -1.0   0     0  ⎥\n",
       "⎢                     ⎥\n",
       "⎢1.0   0     0   1.946⎥\n",
       "⎢                     ⎥\n",
       "⎣ 0    0     0    1.0 ⎦"
      ]
     },
     "execution_count": 11,
     "metadata": {},
     "output_type": "execute_result"
    }
   ],
   "source": [
    "# evaluate matrix for default joint positions\n",
    "T0_G.evalf(subs={q1: 0, q2: 0, q3: 0, q4: 0, q5: 0, q6: 0})"
   ]
  },
  {
   "cell_type": "markdown",
   "metadata": {},
   "source": [
    "Rotate back to the base frame."
   ]
  },
  {
   "cell_type": "code",
   "execution_count": 12,
   "metadata": {
    "collapsed": true
   },
   "outputs": [],
   "source": [
    "# Rotate 180 degree around z-axis\n",
    "R_z = Matrix([[ cos(pi), -sin(pi), 0, 0],\n",
    "              [ sin(pi),  cos(pi), 0, 0],\n",
    "              [       0,        0, 1, 0],\n",
    "              [       0,        0, 0, 1]])\n",
    "\n",
    "# Rotate -90 degree around y-axis\n",
    "R_y = Matrix([[  cos(-pi/2), 0, sin(-pi/2), 0],\n",
    "              [           0, 1,          0, 0],\n",
    "              [ -sin(-pi/2), 0, cos(-pi/2), 0],\n",
    "              [           0, 0,          0, 1]])"
   ]
  },
  {
   "cell_type": "code",
   "execution_count": 13,
   "metadata": {},
   "outputs": [
    {
     "name": "stdout",
     "output_type": "stream",
     "text": [
      "Wall time: 42.2 s\n"
     ]
    }
   ],
   "source": [
    "%time T0_G_0 = trigsimp(T0_G * R_z * R_y)"
   ]
  },
  {
   "cell_type": "code",
   "execution_count": 14,
   "metadata": {},
   "outputs": [
    {
     "data": {
      "image/png": "[encoded data removed]",
      "text/latex": [
       "$$\\left[\\begin{matrix}1.0 & 0 & 0 & 2.153\\\\0 & 1.0 & 0 & 0\\\\0 & 0 & 1.0 & 1.946\\\\0 & 0 & 0 & 1.0\\end{matrix}\\right]$$"
      ],
      "text/plain": [
       "⎡1.0   0    0   2.153⎤\n",
       "⎢                    ⎥\n",
       "⎢ 0   1.0   0     0  ⎥\n",
       "⎢                    ⎥\n",
       "⎢ 0    0   1.0  1.946⎥\n",
       "⎢                    ⎥\n",
       "⎣ 0    0    0    1.0 ⎦"
      ]
     },
     "execution_count": 14,
     "metadata": {},
     "output_type": "execute_result"
    }
   ],
   "source": [
    "# evaluate matrix for default joint positions\n",
    "T0_G_0.evalf(subs={q1: 0, q2: 0, q3: 0, q4: 0, q5: 0, q6: 0})"
   ]
  },
  {
   "cell_type": "markdown",
   "metadata": {},
   "source": [
    "Evaluation of ``T_0_G_0`` with default joint variables, i.e. all angles set to zero, shows that the total transformation trnaslates the end-effector frame ``G`` by 2.153 meters in ``x_0`` direction and 1.946 meters in ``z_0`` direction. This is consistent with our expectations, so we consider the test as passed."
   ]
  },
  {
   "cell_type": "markdown",
   "metadata": {},
   "source": [
    "# Inverse Kinematics"
   ]
  },
  {
   "cell_type": "markdown",
   "metadata": {},
   "source": [
    "## Euler angles and rotation matrices\n",
    "\n",
    "Here we check the conventions for Euler angles ``roll``, ``pitch`` and ``yaw`` and rotation matrices."
   ]
  },
  {
   "cell_type": "code",
   "execution_count": 15,
   "metadata": {
    "collapsed": true
   },
   "outputs": [],
   "source": [
    "r, p, y = symbols('t1:4')"
   ]
  },
  {
   "cell_type": "code",
   "execution_count": 16,
   "metadata": {
    "collapsed": true
   },
   "outputs": [],
   "source": [
    "# 3D rotation matrices\n",
    "R_x = Matrix([[ 1,             0,       0],\n",
    "              [ 0,        cos(r), -sin(r)],\n",
    "              [ 0,        sin(r),  cos(r)]])\n",
    "\n",
    "R_y = Matrix([[ cos(p),        0,  sin(p)],\n",
    "              [      0,        1,       0],\n",
    "              [-sin(p),        0,  cos(p)]])\n",
    "\n",
    "R_z = Matrix([[ cos(y), -sin(y),        0],\n",
    "              [ sin(y),  cos(y),        0],\n",
    "              [ 0,            0,        1]])"
   ]
  },
  {
   "cell_type": "code",
   "execution_count": 17,
   "metadata": {},
   "outputs": [
    {
     "name": "stdout",
     "output_type": "stream",
     "text": [
      "Wall time: 2.04 s\n"
     ]
    },
    {
     "data": {
      "image/png": "[encoded data removed]",
      "text/latex": [
       "$$\\left[\\begin{matrix}\\cos{\\left (t_{2} \\right )} \\cos{\\left (t_{3} \\right )} & - \\sin{\\left (t_{3} \\right )} \\cos{\\left (t_{2} \\right )} & \\sin{\\left (t_{2} \\right )}\\\\\\sin{\\left (t_{1} \\right )} \\sin{\\left (t_{2} \\right )} \\cos{\\left (t_{3} \\right )} + \\sin{\\left (t_{3} \\right )} \\cos{\\left (t_{1} \\right )} & - \\sin{\\left (t_{1} \\right )} \\sin{\\left (t_{2} \\right )} \\sin{\\left (t_{3} \\right )} + \\cos{\\left (t_{1} \\right )} \\cos{\\left (t_{3} \\right )} & - \\sin{\\left (t_{1} \\right )} \\cos{\\left (t_{2} \\right )}\\\\\\sin{\\left (t_{1} \\right )} \\sin{\\left (t_{3} \\right )} - \\sin{\\left (t_{2} \\right )} \\cos{\\left (t_{1} \\right )} \\cos{\\left (t_{3} \\right )} & \\sin{\\left (t_{1} \\right )} \\cos{\\left (t_{3} \\right )} + \\sin{\\left (t_{2} \\right )} \\sin{\\left (t_{3} \\right )} \\cos{\\left (t_{1} \\right )} & \\cos{\\left (t_{1} \\right )} \\cos{\\left (t_{2} \\right )}\\end{matrix}\\right]$$"
      ],
      "text/plain": [
       "⎡             cos(t₂)⋅cos(t₃)                            -sin(t₃)⋅cos(t₂)     \n",
       "⎢                                                                             \n",
       "⎢sin(t₁)⋅sin(t₂)⋅cos(t₃) + sin(t₃)⋅cos(t₁)  -sin(t₁)⋅sin(t₂)⋅sin(t₃) + cos(t₁)\n",
       "⎢                                                                             \n",
       "⎣sin(t₁)⋅sin(t₃) - sin(t₂)⋅cos(t₁)⋅cos(t₃)  sin(t₁)⋅cos(t₃) + sin(t₂)⋅sin(t₃)⋅\n",
       "\n",
       "              sin(t₂)     ⎤\n",
       "                          ⎥\n",
       "⋅cos(t₃)  -sin(t₁)⋅cos(t₂)⎥\n",
       "                          ⎥\n",
       "cos(t₁)   cos(t₁)⋅cos(t₂) ⎦"
      ]
     },
     "execution_count": 17,
     "metadata": {},
     "output_type": "execute_result"
    }
   ],
   "source": [
    "% time R_rpy = trigsimp(R_x * R_y * R_z)\n",
    "R_rpy"
   ]
  },
  {
   "cell_type": "code",
   "execution_count": 18,
   "metadata": {},
   "outputs": [
    {
     "data": {
      "image/png": "[encoded data removed]",
      "text/latex": [
       "$$\\left[\\begin{matrix}1.0 & 0 & 0\\\\0 & 1.0 & 0\\\\0 & 0 & 1.0\\end{matrix}\\right]$$"
      ],
      "text/plain": [
       "⎡1.0   0    0 ⎤\n",
       "⎢             ⎥\n",
       "⎢ 0   1.0   0 ⎥\n",
       "⎢             ⎥\n",
       "⎣ 0    0   1.0⎦"
      ]
     },
     "execution_count": 18,
     "metadata": {},
     "output_type": "execute_result"
    }
   ],
   "source": [
    "roll = 0\n",
    "pitch = 0\n",
    "yaw = 0\n",
    "\n",
    "R_rpy.evalf(subs={r: roll, p: pitch, y: yaw})"
   ]
  },
  {
   "cell_type": "markdown",
   "metadata": {},
   "source": [
    "## Inverse Kinematics Solver\n",
    "\n",
    "This is the code for the inverse kinematics solver for the ``KR210`` manipulator. First we define functions that help with the trigonometric and numerical analysis. Then we test the solver routine by comparing with the expectations given by forward kinematics."
   ]
  },
  {
   "cell_type": "code",
   "execution_count": 19,
   "metadata": {
    "collapsed": true
   },
   "outputs": [],
   "source": [
    "# evaluate arcus cosinus with arcus tangens\n",
    "arccos = lambda D: atan2(sqrt(1 - D**2), D)\n",
    "\n",
    "# cosine law\n",
    "# returns the cosinus of the angle between a,b\n",
    "# c denotes the side opposite to the angle\n",
    "cosine_law = lambda c, a, b: (a**2 + b**2 - c**2) / (2 * a * b)\n",
    "\n",
    "# set entries smaller than 1e-12 to zero since they are most likely numerical artefacts\n",
    "truncate = lambda x: 0 if not isnan(x) and abs(x) < 1e-12 else x"
   ]
  },
  {
   "cell_type": "markdown",
   "metadata": {},
   "source": [
    "Here we test the inverse kinematics code. Type in a test case of joint variables. Forward kinematics is applied to generate values for end effector location p and orientation R. Inverse kinematics is applied to calculate a solution. This solution is compared to the original test data by calculating the difference and truncating small numerical values to zero."
   ]
  },
  {
   "cell_type": "code",
   "execution_count": 20,
   "metadata": {},
   "outputs": [
    {
     "data": {
      "image/png": "[encoded data removed]",
      "text/latex": [
       "$$\\left[\\begin{matrix}0\\\\0\\\\-0.071968920164103\\\\-1.5707963267949\\\\0\\\\-1.49882740663079\\end{matrix}\\right]$$"
      ],
      "text/plain": [
       "⎡        0         ⎤\n",
       "⎢                  ⎥\n",
       "⎢        0         ⎥\n",
       "⎢                  ⎥\n",
       "⎢-0.071968920164103⎥\n",
       "⎢                  ⎥\n",
       "⎢ -1.5707963267949 ⎥\n",
       "⎢                  ⎥\n",
       "⎢        0         ⎥\n",
       "⎢                  ⎥\n",
       "⎣-1.49882740663079 ⎦"
      ]
     },
     "execution_count": 20,
     "metadata": {},
     "output_type": "execute_result"
    }
   ],
   "source": [
    "#############\n",
    "# Test Data #\n",
    "#############\n",
    "\n",
    "# test values for joint variables  \n",
    "q = [pi / 4, 0, 0, 0, 0, 0]\n",
    "\n",
    "T_test = T0_G_0.evalf(subs={q1: q[0], q2: q[1], q3: q[2], q4: q[3], q5: q[4], q6: q[5]}).applyfunc(truncate)\n",
    "#print(T_test)\n",
    "\n",
    "# prepare test data\n",
    "p = T_test[0:3, 3]\n",
    "R = T_test[0:3, 0:3]\n",
    "\n",
    "###########################\n",
    "# Inverse Kinematics Code #\n",
    "###########################\n",
    "\n",
    "# This code used in IK_server.py\n",
    "\n",
    "### WRIST CENTER ###\n",
    "\n",
    "# wrist center vector w in frame 0, s[d7] = 0.303 from DH table\n",
    "w = p - s[d7] * R[:, 0]\n",
    "\n",
    "# Calculate wrist center in xy-plane coordinates (xc, yc) from base frame coordinates w.\n",
    "# Then we evaluate a sss triangle in xy-plane, see writeup.\n",
    "# The sides of the triangle are l23, l25 and l35.\n",
    "# The relevant angles are phi2 between l23 and l25, and phi3 between l23 and l35.\n",
    "\n",
    "# xc is projection of wrist center in (X_0, Y_0) plane minus offset from joint 2\n",
    "xc = norm([w[0], w[1]]) - s[a1]\n",
    "\n",
    "# yc is w component in Z_0 direction minus offset from joint 2\n",
    "yc = w[2] - s[d1]\n",
    "\n",
    "# Calculate distances between joints\n",
    "l25 = norm([xc, yc])       # distance between wrist center w and joint 2\n",
    "l23 = s[a2]                # distance between joints 2 and 3, see DH table\n",
    "l35 = norm([s[a3], s[d4]]) # distance between joints 3 and 5, see DH table\n",
    "\n",
    "### THETA 1 ###\n",
    "\n",
    "theta1 = atan2(p[1], p[0]).evalf()\n",
    "\n",
    "\n",
    "### THETA 3 ###\n",
    "\n",
    "# Calculate phi3 (<l23,l35) with cosine law, D3 = cos(phi3)\n",
    "D3 = cosine_law(l25, l23, l35)\n",
    "phi3 = arccos(D3)\n",
    "\n",
    "# Offset for theta3 due to arm design\n",
    "delta = atan2(s[a3], s[d4])\n",
    "\n",
    "# theta3 from angle phi3 and offset delta\n",
    "theta3 = (pi/2 - phi3 - delta).evalf()\n",
    "\n",
    "\n",
    "### THETA 2 ###\n",
    "\n",
    "# Calculate phi2 (<l23,l25) with cosine law, D2 = cos(phi2)\n",
    "D2 = cosine_law(l35, l23, l25)\n",
    "phi2 = arccos(D2)\n",
    "\n",
    "# alpha is the angle between x-axis and the line l25 in the xy-plane\n",
    "alpha = atan2(yc, xc)\n",
    "\n",
    "# theta3 from angle phi2 and angle alpha\n",
    "theta2 = (pi/2 - phi2 - alpha).evalf()\n",
    "\n",
    "### THETA 4, 5, 6 ###\n",
    "\n",
    "# Evaluate wrist center rotation matrix using calculated angles\n",
    "R3_0_eval = R3_0.evalf(subs={q1: theta1, q2: theta2, q3: theta3})\n",
    "\n",
    "# Rotation matrix from wrist to gripper\n",
    "R3_6 = R3_0_eval * R\n",
    "\n",
    "# Entries of the rotation matrix\n",
    "r11 = R3_6[0,0]\n",
    "r21 = R3_6[1,0]\n",
    "r31 = R3_6[2,0]\n",
    "r32 = R3_6[2,1]\n",
    "r33 = R3_6[2,2]\n",
    "\n",
    "# Euler angles, cf. conventions in writeup    \n",
    "theta6 = atan2( r21, r11).evalf()                    # alpha, rotation about z-axis\n",
    "theta5 = atan2(-r31, sqrt(r11**2 + r21**2)).evalf()  # beta,  rotation about y-axis\n",
    "theta4 = atan2( r32, r33).evalf()                    # gamma, rotation about x-axis\n",
    "\n",
    "##########################\n",
    "# Print the test results #\n",
    "##########################\n",
    "\n",
    "# difference between expected and calculated values for the joint variables\n",
    "diff = Matrix(q) - Matrix([theta1, theta2, theta3, theta4, theta5, theta6])\n",
    "\n",
    "# truncate small values to zero\n",
    "diff.evalf().applyfunc(truncate)"
   ]
  }
 ],
 "metadata": {
  "kernelspec": {
   "display_name": "Python [conda env:RoboND]",
   "language": "python",
   "name": "conda-env-RoboND-py"
  },
  "language_info": {
   "codemirror_mode": {
    "name": "ipython",
    "version": 3
   },
   "file_extension": ".py",
   "mimetype": "text/x-python",
   "name": "python",
   "nbconvert_exporter": "python",
   "pygments_lexer": "ipython3",
   "version": "3.5.2"
  }
 },
 "nbformat": 4,
 "nbformat_minor": 2
}
